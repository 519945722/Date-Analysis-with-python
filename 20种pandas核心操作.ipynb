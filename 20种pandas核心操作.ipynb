{
 "cells": [
  {
   "cell_type": "code",
   "execution_count": 1,
   "metadata": {},
   "outputs": [],
   "source": [
    "import pandas as pd"
   ]
  },
  {
   "cell_type": "markdown",
   "metadata": {},
   "source": [
    "- 数据集操作主要介绍CSV和Excel的读写方法\n",
    "- 基本数据处理主要介绍了缺失值集特征抽取\n",
    "- DataFrame操作主要介绍了函数和排序等方法"
   ]
  },
  {
   "cell_type": "markdown",
   "metadata": {},
   "source": [
    "#### 数据集操作"
   ]
  },
  {
   "cell_type": "markdown",
   "metadata": {},
   "source": [
    "- 读取CSV格式的数据集"
   ]
  },
  {
   "cell_type": "raw",
   "metadata": {},
   "source": [
    "pd.DataFrame.from_csv(\"csv_file\")"
   ]
  },
  {
   "cell_type": "raw",
   "metadata": {},
   "source": [
    "pd.read_csv(\"csv_file\")"
   ]
  },
  {
   "cell_type": "markdown",
   "metadata": {},
   "source": [
    "- 读取Excel数据集"
   ]
  },
  {
   "cell_type": "raw",
   "metadata": {},
   "source": [
    "pd.read_excel(\"excel_file\")"
   ]
  },
  {
   "cell_type": "markdown",
   "metadata": {},
   "source": [
    "- 将DataFrame直接写入CSV文件"
   ]
  },
  {
   "cell_type": "markdown",
   "metadata": {},
   "source": [
    "如下采用逗号作为分隔符，且不带索引"
   ]
  },
  {
   "cell_type": "raw",
   "metadata": {},
   "source": [
    "df.to_csv(\"data.csv\", sep=\",\", index=False)"
   ]
  },
  {
   "cell_type": "markdown",
   "metadata": {},
   "source": [
    "- 基本的数据集特征信息"
   ]
  },
  {
   "cell_type": "raw",
   "metadata": {},
   "source": [
    "df.info()"
   ]
  },
  {
   "cell_type": "markdown",
   "metadata": {},
   "source": [
    "-  基本的数据集统计信息"
   ]
  },
  {
   "cell_type": "raw",
   "metadata": {},
   "source": [
    "df.describe()"
   ]
  },
  {
   "cell_type": "markdown",
   "metadata": {},
   "source": [
    "- 将DataFrame输出到一张表"
   ]
  },
  {
   "cell_type": "raw",
   "metadata": {},
   "source": [
    "print(tabulate(print_table, headers=headers))"
   ]
  },
  {
   "cell_type": "markdown",
   "metadata": {},
   "source": [
    "#### 基本数据处理"
   ]
  },
  {
   "cell_type": "markdown",
   "metadata": {},
   "source": [
    "- 删除缺失数据"
   ]
  },
  {
   "cell_type": "raw",
   "metadata": {},
   "source": [
    "df.dropna(axis=0, how='any')\n",
    "\n",
    "返回一个DataFrame，删除包含nan值得轴"
   ]
  },
  {
   "cell_type": "markdown",
   "metadata": {},
   "source": [
    "- 替换缺失数据"
   ]
  },
  {
   "cell_type": "raw",
   "metadata": {},
   "source": [
    "df.replace(to_replace=None, value=None)\n",
    "\n",
    "使用value值替换DataFrame中的to_replace值"
   ]
  },
  {
   "cell_type": "markdown",
   "metadata": {},
   "source": [
    "- 检查空值NaN"
   ]
  },
  {
   "cell_type": "raw",
   "metadata": {},
   "source": [
    "pd.isnull(object) \n",
    "\n",
    "数值数组中的NaN和目标数组中的None、NaN"
   ]
  },
  {
   "cell_type": "markdown",
   "metadata": {},
   "source": [
    "- 删除特征"
   ]
  },
  {
   "cell_type": "raw",
   "metadata": {},
   "source": [
    "df.drop('feature_varible_name', axis=1)"
   ]
  },
  {
   "cell_type": "markdown",
   "metadata": {},
   "source": [
    "- 将目标类型转换为浮点类型"
   ]
  },
  {
   "cell_type": "raw",
   "metadata": {},
   "source": [
    "将目标类转换为数值从而进一步执行计算"
   ]
  },
  {
   "cell_type": "markdown",
   "metadata": {},
   "source": [
    "- 将DataFrame转换为Numpy数组"
   ]
  },
  {
   "cell_type": "raw",
   "metadata": {},
   "source": [
    "df.as_matrix()"
   ]
  },
  {
   "cell_type": "markdown",
   "metadata": {},
   "source": [
    "#### DataFrame操作"
   ]
  },
  {
   "cell_type": "markdown",
   "metadata": {},
   "source": [
    "- 对DataFrame使用函数"
   ]
  },
  {
   "cell_type": "raw",
   "metadata": {},
   "source": [
    "df['height'].apply(lambda height: 2 * height)"
   ]
  },
  {
   "cell_type": "raw",
   "metadata": {},
   "source": [
    "或：\n",
    "def multiply(x):\n",
    "   return x * 2\n",
    "df['height'].apply(multiply)"
   ]
  },
  {
   "cell_type": "markdown",
   "metadata": {},
   "source": [
    "- 重命名行"
   ]
  },
  {
   "cell_type": "raw",
   "metadata": {},
   "source": [
    "将第三行改名为size\n",
    "df.rename(columns = {df.columns[2]: 'size'}, inplace=True)"
   ]
  },
  {
   "cell_type": "markdown",
   "metadata": {},
   "source": [
    "- 取某一行的唯一实体"
   ]
  },
  {
   "cell_type": "raw",
   "metadata": {},
   "source": [
    "df['name'].unique()"
   ]
  },
  {
   "cell_type": "markdown",
   "metadata": {},
   "source": [
    "- 访问子DataFrame"
   ]
  },
  {
   "cell_type": "raw",
   "metadata": {},
   "source": [
    "生成子DataFrame\n",
    "new_df = df[['name', 'size']]"
   ]
  },
  {
   "cell_type": "markdown",
   "metadata": {},
   "source": [
    "- 总结数据信息"
   ]
  },
  {
   "cell_type": "raw",
   "metadata": {},
   "source": [
    "# 对一个data frame求和\n",
    "df.sum()\n",
    "# 一个data frame的最小值\n",
    "df.min()\n",
    "# 最大值\n",
    "df.max()\n",
    "# 索引最小值\n",
    "df.idxmin()\n",
    "# 索引最大值\n",
    "df.inxmax()\n",
    "# 描述dataframe的统计信息，包括四分位数、中位数等\n",
    "df.describe()\n",
    "# 平均值\n",
    "df.mean()\n",
    "# 中位数\n",
    "df.median()\n",
    "# 列之间的相关性\n",
    "df.corr()\n",
    "# 得到某一列的中位数\n",
    "df['size'].median()"
   ]
  },
  {
   "cell_type": "markdown",
   "metadata": {},
   "source": [
    "- 给数据排序"
   ]
  },
  {
   "cell_type": "raw",
   "metadata": {},
   "source": [
    "df.sort_values(ascending=False)"
   ]
  },
  {
   "cell_type": "markdown",
   "metadata": {},
   "source": [
    "- 布尔型索引"
   ]
  },
  {
   "cell_type": "raw",
   "metadata": {},
   "source": [
    "df[df['size'] == 5]"
   ]
  },
  {
   "cell_type": "markdown",
   "metadata": {},
   "source": [
    "- 选定特定的值"
   ]
  },
  {
   "cell_type": "raw",
   "metadata": {},
   "source": [
    "df.loc[[0], ['size']]  选取0行size列的值"
   ]
  }
 ],
 "metadata": {
  "kernelspec": {
   "display_name": "Python 3",
   "language": "python",
   "name": "python3"
  },
  "language_info": {
   "codemirror_mode": {
    "name": "ipython",
    "version": 3
   },
   "file_extension": ".py",
   "mimetype": "text/x-python",
   "name": "python",
   "nbconvert_exporter": "python",
   "pygments_lexer": "ipython3",
   "version": "3.6.6"
  }
 },
 "nbformat": 4,
 "nbformat_minor": 2
}
